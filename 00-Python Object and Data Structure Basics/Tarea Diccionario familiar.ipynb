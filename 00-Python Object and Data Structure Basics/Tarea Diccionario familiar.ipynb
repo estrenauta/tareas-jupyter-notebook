{
 "cells": [
  {
   "cell_type": "code",
   "execution_count": 54,
   "metadata": {},
   "outputs": [],
   "source": [
    "diccionario_familiar = {\"mi familia\":{\"papas\":[\"Mario Alberto\", \"Avelina\"],\n",
    "                                     \"hijos\":[\"Mario Alberto\",\"Fabiola\"]},\n",
    "                        \"familia paterna\":{\"abuelos\":[\"Alberto\",\"Eudelia\"],\n",
    "                                          \"hijos\" :[\"Mario Alberto\",\"Enrique\",\"Marisela\",\"Eva\"]},\n",
    "                        \"familia materna\":{\"abuelos\":[\"Mario\",\"Josefina\"],\n",
    "                                           \"hijos\": [\"Marcelino\",\"Miriam\",\"Martha\",\"Moises\",\"Eleazar\", \"Avelina\",\"Luciano\",\"Monica\", \"Mariano\"]}}"
   ]
  },
  {
   "cell_type": "code",
   "execution_count": 55,
   "metadata": {},
   "outputs": [
    {
     "data": {
      "text/plain": [
       "{'papas': ['Mario Alberto', 'Avelina'], 'hijos': ['Mario Alberto', 'Fabiola']}"
      ]
     },
     "execution_count": 55,
     "metadata": {},
     "output_type": "execute_result"
    }
   ],
   "source": [
    "diccionario_familiar [\"mi familia\"]"
   ]
  },
  {
   "cell_type": "code",
   "execution_count": 56,
   "metadata": {},
   "outputs": [
    {
     "data": {
      "text/plain": [
       "{'abuelos': ['Alberto', 'Eudelia'],\n",
       " 'hijos': ['Mario Alberto', 'Enrique', 'Marisela', 'Eva']}"
      ]
     },
     "execution_count": 56,
     "metadata": {},
     "output_type": "execute_result"
    }
   ],
   "source": [
    "diccionario_familiar [\"familia paterna\"]"
   ]
  },
  {
   "cell_type": "code",
   "execution_count": 57,
   "metadata": {},
   "outputs": [
    {
     "data": {
      "text/plain": [
       "{'abuelos': ['Mario', 'Josefina'],\n",
       " 'hijos': ['Marcelino',\n",
       "  'Miriam',\n",
       "  'Martha',\n",
       "  'Moises',\n",
       "  'Eleazar',\n",
       "  'Avelina',\n",
       "  'Luciano',\n",
       "  'Monica',\n",
       "  'Mariano']}"
      ]
     },
     "execution_count": 57,
     "metadata": {},
     "output_type": "execute_result"
    }
   ],
   "source": [
    "diccionario_familiar[\"familia materna\"]"
   ]
  },
  {
   "cell_type": "code",
   "execution_count": 58,
   "metadata": {},
   "outputs": [
    {
     "data": {
      "text/plain": [
       "'Mario Alberto'"
      ]
     },
     "execution_count": 58,
     "metadata": {},
     "output_type": "execute_result"
    }
   ],
   "source": [
    "diccionario_familiar[\"familia paterna\"][\"hijos\"][0]"
   ]
  },
  {
   "cell_type": "code",
   "execution_count": 59,
   "metadata": {},
   "outputs": [
    {
     "data": {
      "text/plain": [
       "'Avelina'"
      ]
     },
     "execution_count": 59,
     "metadata": {},
     "output_type": "execute_result"
    }
   ],
   "source": [
    "diccionario_familiar[\"familia materna\"][\"hijos\"][5]"
   ]
  },
  {
   "cell_type": "code",
   "execution_count": 62,
   "metadata": {},
   "outputs": [
    {
     "data": {
      "text/plain": [
       "'Fabiola'"
      ]
     },
     "execution_count": 62,
     "metadata": {},
     "output_type": "execute_result"
    }
   ],
   "source": [
    "diccionario_familiar[\"mi familia\"][\"hijos\"][1]"
   ]
  },
  {
   "cell_type": "code",
   "execution_count": null,
   "metadata": {},
   "outputs": [],
   "source": []
  }
 ],
 "metadata": {
  "kernelspec": {
   "display_name": "Python 3",
   "language": "python",
   "name": "python3"
  },
  "language_info": {
   "codemirror_mode": {
    "name": "ipython",
    "version": 3
   },
   "file_extension": ".py",
   "mimetype": "text/x-python",
   "name": "python",
   "nbconvert_exporter": "python",
   "pygments_lexer": "ipython3",
   "version": "3.6.5"
  }
 },
 "nbformat": 4,
 "nbformat_minor": 2
}
